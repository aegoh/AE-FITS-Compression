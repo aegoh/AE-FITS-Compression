{
  "cells": [
    {
      "cell_type": "code",
      "execution_count": null,
      "metadata": {
        "colab": {
          "base_uri": "https://localhost:8080/"
        },
        "id": "TncAX28DidXu",
        "outputId": "2bc43b63-873e-4795-d71a-44016a4aa4ea"
      },
      "outputs": [
        {
          "name": "stdout",
          "output_type": "stream",
          "text": [
            "Looking in indexes: https://pypi.org/simple, https://us-python.pkg.dev/colab-wheels/public/simple/\n",
            "Requirement already satisfied: wandb in /usr/local/lib/python3.9/dist-packages (0.15.0)\n",
            "Requirement already satisfied: psutil>=5.0.0 in /usr/local/lib/python3.9/dist-packages (from wandb) (5.9.5)\n",
            "Requirement already satisfied: GitPython!=3.1.29,>=1.0.0 in /usr/local/lib/python3.9/dist-packages (from wandb) (3.1.31)\n",
            "Requirement already satisfied: docker-pycreds>=0.4.0 in /usr/local/lib/python3.9/dist-packages (from wandb) (0.4.0)\n",
            "Requirement already satisfied: typing-extensions in /usr/local/lib/python3.9/dist-packages (from wandb) (4.5.0)\n",
            "Requirement already satisfied: PyYAML in /usr/local/lib/python3.9/dist-packages (from wandb) (6.0)\n",
            "Requirement already satisfied: setuptools in /usr/local/lib/python3.9/dist-packages (from wandb) (67.7.2)\n",
            "Requirement already satisfied: requests<3,>=2.0.0 in /usr/local/lib/python3.9/dist-packages (from wandb) (2.27.1)\n",
            "Requirement already satisfied: protobuf!=4.21.0,<5,>=3.15.0 in /usr/local/lib/python3.9/dist-packages (from wandb) (3.20.3)\n",
            "Requirement already satisfied: Click!=8.0.0,>=7.0 in /usr/local/lib/python3.9/dist-packages (from wandb) (8.1.3)\n",
            "Requirement already satisfied: sentry-sdk>=1.0.0 in /usr/local/lib/python3.9/dist-packages (from wandb) (1.21.0)\n",
            "Requirement already satisfied: appdirs>=1.4.3 in /usr/local/lib/python3.9/dist-packages (from wandb) (1.4.4)\n",
            "Requirement already satisfied: setproctitle in /usr/local/lib/python3.9/dist-packages (from wandb) (1.3.2)\n",
            "Requirement already satisfied: pathtools in /usr/local/lib/python3.9/dist-packages (from wandb) (0.1.2)\n",
            "Requirement already satisfied: six>=1.4.0 in /usr/local/lib/python3.9/dist-packages (from docker-pycreds>=0.4.0->wandb) (1.16.0)\n",
            "Requirement already satisfied: gitdb<5,>=4.0.1 in /usr/local/lib/python3.9/dist-packages (from GitPython!=3.1.29,>=1.0.0->wandb) (4.0.10)\n",
            "Requirement already satisfied: certifi>=2017.4.17 in /usr/local/lib/python3.9/dist-packages (from requests<3,>=2.0.0->wandb) (2022.12.7)\n",
            "Requirement already satisfied: urllib3<1.27,>=1.21.1 in /usr/local/lib/python3.9/dist-packages (from requests<3,>=2.0.0->wandb) (1.26.15)\n",
            "Requirement already satisfied: charset-normalizer~=2.0.0 in /usr/local/lib/python3.9/dist-packages (from requests<3,>=2.0.0->wandb) (2.0.12)\n",
            "Requirement already satisfied: idna<4,>=2.5 in /usr/local/lib/python3.9/dist-packages (from requests<3,>=2.0.0->wandb) (3.4)\n",
            "Requirement already satisfied: smmap<6,>=3.0.1 in /usr/local/lib/python3.9/dist-packages (from gitdb<5,>=4.0.1->GitPython!=3.1.29,>=1.0.0->wandb) (5.0.0)\n"
          ]
        }
      ],
      "source": [
        "! pip install wandb"
      ]
    },
    {
      "cell_type": "code",
      "execution_count": null,
      "metadata": {
        "id": "-wQefckoidXv"
      },
      "outputs": [],
      "source": [
        "import tensorflow as tf\n",
        "import matplotlib.pyplot as plt\n",
        "import numpy as np\n",
        "import pandas as pd\n",
        "from sklearn.model_selection import train_test_split\n",
        "import matplotlib.image as mpimg\n",
        "import random\n",
        "import math\n",
        "import os\n",
        "import tensorflow_datasets as tfds\n",
        "from tensorflow import keras\n",
        "from keras import layers\n",
        "from keras import backend as K\n",
        "from keras.preprocessing.image import ImageDataGenerator\n",
        "from keras.layers.convolutional.conv2d_transpose import Conv2DTranspose\n",
        "from keras.layers.reshaping.up_sampling2d import UpSampling2D\n",
        "from sklearn.preprocessing import StandardScaler\n",
        "import wandb\n",
        "from wandb.keras import WandbMetricsLogger, WandbModelCheckpoint\n",
        "import tensorflow_probability as tfp\n",
        "tfd = tfp.distributions\n",
        "tfpl = tfp.layers"
      ]
    },
    {
      "cell_type": "code",
      "execution_count": null,
      "metadata": {
        "colab": {
          "base_uri": "https://localhost:8080/"
        },
        "id": "zgD95yoQidXw",
        "outputId": "28c1ba72-41bc-4398-86bf-cf1799ee534f"
      },
      "outputs": [
        {
          "name": "stdout",
          "output_type": "stream",
          "text": [
            "Tensorflow Version: 2.11.0\n",
            "Num GPUs Available:  0\n",
            "[]\n"
          ]
        }
      ],
      "source": [
        "print(\"Tensorflow Version:\", tf.__version__)\n",
        "print(\"Num GPUs Available: \", len(tf.config.list_physical_devices('GPU')))\n",
        "print(tf.config.list_physical_devices('GPU'))\n",
        "\n",
        "gpus = tf.config.experimental.list_physical_devices('GPU')\n",
        "for gpu in gpus:\n",
        "  tf.config.experimental.set_memory_growth(gpu, True)"
      ]
    },
    {
      "cell_type": "code",
      "execution_count": null,
      "metadata": {
        "colab": {
          "base_uri": "https://localhost:8080/"
        },
        "id": "5MD9Ie2widXx",
        "outputId": "56fd202b-e070-4379-c8dc-be80f1a35c78"
      },
      "outputs": [
        {
          "name": "stderr",
          "output_type": "stream",
          "text": [
            "\u001b[34m\u001b[1mwandb\u001b[0m: Currently logged in as: \u001b[33magoh\u001b[0m (\u001b[33mcuzime\u001b[0m). Use \u001b[1m`wandb login --relogin`\u001b[0m to force relogin\n"
          ]
        },
        {
          "data": {
            "text/plain": [
              "True"
            ]
          },
          "execution_count": 4,
          "metadata": {},
          "output_type": "execute_result"
        }
      ],
      "source": [
        "wandb.login()"
      ]
    },
    {
      "cell_type": "markdown",
      "metadata": {
        "id": "rASuePsxidXy"
      },
      "source": [
        "## Toy Dataset"
      ]
    },
    {
      "cell_type": "code",
      "execution_count": null,
      "metadata": {
        "colab": {
          "base_uri": "https://localhost:8080/",
          "height": 850
        },
        "id": "rOnySgcQidXz",
        "outputId": "28998992-3c08-4e1b-cc2e-539d6b5216d4"
      },
      "outputs": [
        {
          "data": {
            "image/png": "[encoded data removed]",
            "text/plain": [
              "<Figure size 432x432 with 2 Axes>"
            ]
          },
          "metadata": {
            "needs_background": "light"
          },
          "output_type": "display_data"
        },
        {
          "data": {
            "image/png": "[encoded data removed]",
            "text/plain": [
              "<Figure size 288x288 with 1 Axes>"
            ]
          },
          "metadata": {
            "needs_background": "light"
          },
          "output_type": "display_data"
        }
      ],
      "source": [
        "def make_image(shape, noise_mean = 1,\n",
        "                        noise_std = 1,\n",
        "                        num_obj_min = 1,\n",
        "                        num_obj_max = 20,\n",
        "                        amp_min = 1,\n",
        "                        amp_max = 5,\n",
        "                        size_min = 0.4,\n",
        "                        size_max = 1.5):\n",
        "    rows = shape[0]\n",
        "    cols = shape[1]\n",
        "\n",
        "    # add noise\n",
        "    noise_layer = np.random.normal(loc = noise_mean, scale = noise_std, size = shape)\n",
        "    image = noise_layer\n",
        "\n",
        "    num_obj = np.random.randint(num_obj_min, num_obj_max)\n",
        "\n",
        "    for i in range(num_obj):\n",
        "        sigma = np.random.uniform(size_min,size_max)\n",
        "        amp = np.random.uniform(amp_min,amp_max)\n",
        "        x0, y0 = np.random.randint(0, rows), np.random.randint(0, cols)\n",
        "        x, y = np.meshgrid(np.arange(cols), np.arange(rows))\n",
        "        gaussian = amp*np.exp(-((x-x0)**2 + (y-y0)**2) / (2*sigma**2))\n",
        "\n",
        "        image += gaussian\n",
        "\n",
        "    image = np.array(image).reshape(shape[0], shape[1],1)\n",
        "    return image\n",
        "\n",
        "# VISUALIZE\n",
        "\n",
        "# init some variables\n",
        "shape = (64,64)\n",
        "noise_mean = 1\n",
        "noise_std = 0.1\n",
        "num_obj_min = 0\n",
        "num_obj_max = 20\n",
        "amp_min = 1\n",
        "amp_max = 5\n",
        "size_min = 0.4\n",
        "size_max = 2\n",
        "\n",
        "\n",
        "# test plot\n",
        "image = make_image(shape = shape,\n",
        "                    noise_mean = noise_mean,\n",
        "                    noise_std = noise_std,\n",
        "                    num_obj_min = num_obj_min,\n",
        "                    num_obj_max = num_obj_max,\n",
        "                    amp_min = amp_min,\n",
        "                    amp_max = amp_max,\n",
        "                    size_min = size_min,\n",
        "                    size_max = size_max)\n",
        "\n",
        "plt.figure(figsize = (6,6))\n",
        "plt.imshow(image.reshape(shape[0], shape[1]), cmap = 'gray')\n",
        "plt.colorbar()\n",
        "\n",
        "# histogram\n",
        "image_flatten = np.array(image).flatten()\n",
        "np.shape(image_flatten)\n",
        "plt.figure(figsize = (4,4))\n",
        "histogram = plt.hist(image_flatten, density = False, bins = 100)\n",
        "\n",
        "# batches\n",
        "def make_image_batch(batch_size,\n",
        "                    shape,\n",
        "                    noise_mean,\n",
        "                    noise_std,\n",
        "                    num_obj_min,\n",
        "                    num_obj_max,\n",
        "                    amp_min,\n",
        "                    amp_max,\n",
        "                    size_min,\n",
        "                    size_max):\n",
        "    images = []\n",
        "    for i in range(batch_size):\n",
        "        image = make_image(shape, noise_mean, noise_std, num_obj_min, num_obj_max, amp_min, amp_max, size_min, size_max)\n",
        "        images.append(image)\n",
        "\n",
        "    return np.array(images)"
      ]
    },
    {
      "cell_type": "code",
      "execution_count": null,
      "metadata": {
        "colab": {
          "base_uri": "https://localhost:8080/"
        },
        "id": "ay0viqVAidX0",
        "outputId": "a675a69f-a93d-4a99-c5d0-a3c934a1cb8d"
      },
      "outputs": [
        {
          "name": "stdout",
          "output_type": "stream",
          "text": [
            "(40000, 64, 64, 1)\n"
          ]
        }
      ],
      "source": [
        "# load toy images into memory\n",
        "\n",
        "# set noise/object parameters\n",
        "noise_mean = 1\n",
        "noise_std = 0.1\n",
        "num_obj_min = 0\n",
        "num_obj_max = 20\n",
        "amp_min = 1\n",
        "amp_max = 5\n",
        "size_min = 0.4\n",
        "size_max = 2\n",
        "\n",
        "# set image size\n",
        "shape = (64,64)\n",
        "input_shape = (shape[0],shape[1],1)\n",
        "\n",
        "# set num images\n",
        "num_imgs = 40000\n",
        "\n",
        "synth_imgs = make_image_batch(batch_size=num_imgs,\n",
        "                                shape=shape,\n",
        "                                noise_mean=noise_mean,\n",
        "                                noise_std=noise_std,\n",
        "                                num_obj_min=num_obj_min,\n",
        "                                num_obj_max=num_obj_max,\n",
        "                                amp_min=amp_min,\n",
        "                                amp_max=amp_max,\n",
        "                                size_min=size_min,\n",
        "                                size_max=size_max)\n",
        "print(np.shape(synth_imgs))\n"
      ]
    },
    {
      "cell_type": "code",
      "execution_count": null,
      "metadata": {
        "colab": {
          "base_uri": "https://localhost:8080/",
          "height": 1000
        },
        "id": "u9RluPkO-ARJ",
        "outputId": "b90c3ddf-220b-4e25-b6ac-be5ebe4cbbae"
      },
      "outputs": [
        {
          "data": {
            "image/png": "[encoded data removed]",
            "text/plain": [
              "<Figure size 360x360 with 1 Axes>"
            ]
          },
          "metadata": {
            "needs_background": "light"
          },
          "output_type": "display_data"
        },
        {
          "data": {
            "image/png": "[encoded data removed]",
            "text/plain": [
              "<Figure size 360x360 with 1 Axes>"
            ]
          },
          "metadata": {
            "needs_background": "light"
          },
          "output_type": "display_data"
        },
        {
          "data": {
            "image/png": "[encoded data removed]",
            "text/plain": [
              "<Figure size 288x288 with 1 Axes>"
            ]
          },
          "metadata": {
            "needs_background": "light"
          },
          "output_type": "display_data"
        },
        {
          "data": {
            "image/png": "[encoded data removed]",
            "text/plain": [
              "<Figure size 288x288 with 1 Axes>"
            ]
          },
          "metadata": {
            "needs_background": "light"
          },
          "output_type": "display_data"
        }
      ],
      "source": [
        "# add NOISE to dataset\n",
        "noise_factor_min = 0\n",
        "noise_factor_max = 1.0\n",
        "scale = 1.0\n",
        "\n",
        "def add_noise(images, noise_factor_min, noise_factor_max, scale):\n",
        "\n",
        "  shape = images.shape\n",
        "  noisy_images = images.copy()\n",
        "  for i in range(len(images)):\n",
        "    noise_factor = random.uniform(noise_factor_min, noise_factor_max)\n",
        "    noisy_images[i] = noisy_images[i] + noise_factor * np.random.normal(\n",
        "          loc=0.0, scale=scale, size=(shape[1], shape[2], shape[3]))\n",
        "\n",
        "  return noisy_images\n",
        "\n",
        "synth_imgs_noisy = add_noise(synth_imgs, noise_factor_min = noise_factor_min, noise_factor_max=noise_factor_max, scale = scale)\n",
        "\n",
        "\n",
        "# plot image + noisy_image\n",
        "index = random.randint(0, len(synth_imgs)-1)\n",
        "\n",
        "clean_image = synth_imgs[index]\n",
        "noisy_image = synth_imgs_noisy[index]\n",
        "\n",
        "plt.figure(figsize = (5,5))\n",
        "plt.imshow(clean_image.reshape(shape[0], shape[1]), cmap = 'gray')\n",
        "plt.figure(figsize = (5,5))\n",
        "plt.imshow(noisy_image.reshape(shape[0], shape[1]), cmap = 'gray')\n",
        "\n",
        "# histogram clean\n",
        "image_flatten = np.array(clean_image).flatten()\n",
        "np.shape(image_flatten)\n",
        "plt.figure(figsize = (4,4))\n",
        "histogram = plt.hist(image_flatten, density = False, bins = 100)\n",
        "\n",
        "# histogram noisy\n",
        "image_flatten = np.array(noisy_image).flatten()\n",
        "np.shape(image_flatten)\n",
        "plt.figure(figsize = (4,4))\n",
        "histogram = plt.hist(image_flatten, density = False, bins = 100)"
      ]
    },
    {
      "cell_type": "code",
      "execution_count": null,
      "metadata": {
        "colab": {
          "base_uri": "https://localhost:8080/"
        },
        "id": "sjAgjKp2-ARK",
        "outputId": "f05db665-215d-4c71-a50b-55bacf8ab4e5"
      },
      "outputs": [
        {
          "name": "stdout",
          "output_type": "stream",
          "text": [
            "(36000, 64, 64, 1)\n",
            "(4000, 64, 64, 1)\n",
            "(36000, 64, 64, 1)\n",
            "(4000, 64, 64, 1)\n"
          ]
        }
      ],
      "source": [
        "# sklearn standard scaler clean_imgs\n",
        "synth_imgs = synth_imgs\n",
        "flattened_synth_imgs = np.reshape(synth_imgs, (num_imgs, shape[0]*shape[1]))\n",
        "scaler = StandardScaler()\n",
        "scaler.fit(flattened_synth_imgs)\n",
        "synth_imgs_scaled = scaler.transform(flattened_synth_imgs)\n",
        "synth_imgs_scaled = np.reshape(synth_imgs_scaled, (num_imgs,shape[0],shape[1],1))\n",
        "\n",
        "synth_train = synth_imgs_scaled[0:int(num_imgs*0.9)]\n",
        "synth_test = synth_imgs_scaled[int(num_imgs*0.9):]\n",
        "print(np.shape(synth_train))\n",
        "print(np.shape(synth_test))\n",
        "\n",
        "# sklearn standard scaler noisy_imgs\n",
        "synth_imgs_noisy = synth_imgs_noisy\n",
        "flattened_synth_imgs_noisy = np.reshape(synth_imgs_noisy, (num_imgs, shape[0]*shape[1]))\n",
        "scaler_noisy = StandardScaler()\n",
        "scaler_noisy.fit(flattened_synth_imgs_noisy)\n",
        "synth_imgs_scaled_noisy = scaler_noisy.transform(flattened_synth_imgs_noisy)\n",
        "synth_imgs_scaled_noisy = np.reshape(synth_imgs_scaled_noisy, (num_imgs,shape[0],shape[1],1))\n",
        "\n",
        "synth_train_noisy = synth_imgs_scaled_noisy[0:int(num_imgs*0.9)]\n",
        "synth_test_noisy = synth_imgs_scaled_noisy[int(num_imgs*0.9):]\n",
        "print(np.shape(synth_train_noisy))\n",
        "print(np.shape(synth_test_noisy))\n",
        "\n",
        "# data generator\n",
        "def generate_synth_batch(batch_size):\n",
        "    while True:\n",
        "        synth_imgs = make_image_batch(batch_size=batch_size,\n",
        "                                shape=shape,\n",
        "                                noise_mean=noise_mean,\n",
        "                                noise_std=noise_std,\n",
        "                                num_obj_min=num_obj_min,\n",
        "                                num_obj_max=num_obj_max,\n",
        "                                amp_min=amp_min,\n",
        "                                amp_max=amp_max,\n",
        "                                size_min=size_min,\n",
        "                                size_max=size_max)\n",
        "\n",
        "        flattened_synth_imgs = np.reshape(synth_imgs, (batch_size, shape[0]*shape[1]))\n",
        "        synth_imgs_scaled = scaler.transform(flattened_synth_imgs)\n",
        "        synth_imgs_scaled = np.reshape(synth_imgs_scaled, (batch_size,shape[0],shape[1],1))\n",
        "\n",
        "        synth_imgs_noisy = add_noise(synth_imgs, noise_factor_min = noise_factor_min, noise_factor_max=noise_factor_max, scale = scale)\n",
        "        flattened_synth_imgs_noisy = np.reshape(synth_imgs_noisy, (batch_size, shape[0]*shape[1]))\n",
        "        synth_imgs_scaled_noisy = scaler_noisy.transform(flattened_synth_imgs_noisy)\n",
        "        synth_imgs_scaled_noisy = np.reshape(synth_imgs_scaled_noisy, (batch_size,shape[0],shape[1],1))\n",
        "\n",
        "        yield ([synth_imgs_scaled_noisy], [synth_imgs_scaled])"
      ]
    },
    {
      "cell_type": "markdown",
      "metadata": {
        "id": "uFtAA1GJidX1"
      },
      "source": [
        "## Fully Convolutional Autoencoder (no tuning)"
      ]
    },
    {
      "cell_type": "code",
      "execution_count": null,
      "metadata": {
        "id": "vkhCRkv7idX1"
      },
      "outputs": [],
      "source": [
        "# GAE\n",
        "def create_mask(codes_shape, comp_param):\n",
        "    comp_param = comp_param\n",
        "    codes_shape = codes_shape\n",
        "    ones = tf.ones((codes_shape[0], codes_shape[1], comp_param))\n",
        "    zeros = tf.zeros((codes_shape[0], codes_shape[1], codes_shape[2]-comp_param))\n",
        "    mask = tf.concat([ones, zeros], axis = 2)\n",
        "    mask = tf.reshape(mask, (1, codes_shape[0], codes_shape[1], codes_shape[2]))\n",
        "\n",
        "    return mask\n",
        "\n",
        "class GAE(keras.Model):\n",
        "\n",
        "    def gae_compile(self,\n",
        "                    encoder,\n",
        "                    mean_model,\n",
        "                    var_model,\n",
        "                    encoder_optimizer,\n",
        "                    mean_optimizer,\n",
        "                    var_optimizer,\n",
        "                    epsilon=1,\n",
        "                    encoding_dim = 64,\n",
        "                    beta = 1,\n",
        "                    **kwargs):\n",
        "        super().compile()\n",
        "        self.mean_optimizer = mean_optimizer\n",
        "        self.var_optimizer = var_optimizer\n",
        "        self.encoder_optimizer = encoder_optimizer\n",
        "        self.mle_loss_tracker = keras.metrics.Mean(name=\"mle_loss\")\n",
        "        self.kl_loss_tracker = keras.metrics.Mean(name =\"kl_loss\")\n",
        "        self.var_loss_tracker = keras.metrics.Mean(name=\"var_loss\")\n",
        "        self.mse_tracker = keras.metrics.Mean(name = \"mse\")\n",
        "        self.beta = beta\n",
        "        self.epsilon = epsilon\n",
        "        self.mean_model = mean_model\n",
        "        self.var_model = var_model\n",
        "        self.encoder = encoder\n",
        "        self.encoding_dim = encoding_dim\n",
        "\n",
        "    def train_step(self, data):\n",
        "        noisy_images, images = data\n",
        "\n",
        "        \"\"\"\"FULLY CONV MODEL WITHOUT TUNING\"\"\"\n",
        "        with tf.GradientTape(persistent = True) as tape:\n",
        "            # forward pass mean\n",
        "            codes = self.encoder(noisy_images, training = True)\n",
        "            \"\"\"\"masking process\"\"\"\n",
        "            #codes_shape = K.int_shape(codes)[1:]\n",
        "            #comp_param = random.randint(1,64)\n",
        "            #mask = create_mask(codes_shape = codes_shape, comp_param = comp_param)\n",
        "            #codes = tf.multiply(codes, mask)\n",
        "\n",
        "            mean_img = self.mean_model(codes, training = True)\n",
        "            \"\"\"Calculate MSE loss\"\"\"\n",
        "            mse = K.mean(K.square(mean_img - images))\n",
        "\n",
        "        # apply gradients to mean model\n",
        "        mean_grads = tape.gradient(mse, self.mean_model.trainable_weights)\n",
        "        encoder_grads = tape.gradient(mse, self.encoder.trainable_weights)\n",
        "        self.encoder_optimizer.apply_gradients(zip(encoder_grads, self.encoder.trainable_weights))\n",
        "        self.mean_optimizer.apply_gradients(zip(mean_grads, self.mean_model.trainable_weights))\n",
        "\n",
        "        with tf.GradientTape(persistent = True) as tape:\n",
        "            # forward pass variance\n",
        "            codes = self.encoder(noisy_images, training = True)\n",
        "            \"\"\"\"masking process\"\"\"\n",
        "            #codes_shape = K.int_shape(codes)[1:]\n",
        "            #comp_param = random.randint(1,64)\n",
        "            #mask = create_mask(codes_shape = codes_shape, comp_param = comp_param)\n",
        "            #codes = tf.multiply(codes, mask)\n",
        "\n",
        "            var_img = self.var_model(codes, training = True)\n",
        "            mean_img = self.mean_model(codes, training = False)\n",
        "            \"\"\"Calulate MLE loss\"\"\"\n",
        "            mle_loss = K.log(var_img+self.epsilon) + K.square(mean_img - images) / (var_img+self.epsilon)\n",
        "            mle_loss = K.mean(mle_loss)\n",
        "\n",
        "            \"\"\"Calculate KL loss of Z score\"\"\"\n",
        "            z_score_img = (mean_img - images) / (var_img+self.epsilon)\n",
        "            z_mean = K.mean(z_score_img, axis=[1,2], keepdims=False)\n",
        "            z_log_var = 2*K.log(K.std(z_score_img, axis = [1,2], keepdims=False))\n",
        "            kl_loss = -0.5 * (1 + z_log_var - K.square(z_mean) - K.exp(z_log_var))\n",
        "            kl_loss = K.mean(kl_loss)\n",
        "\n",
        "            \"Variance Loss\"\n",
        "            var_loss = self.beta*kl_loss + mle_loss\n",
        "\n",
        "        # apply gradients to var model\n",
        "        var_grads = tape.gradient(var_loss, self.var_model.trainable_weights)\n",
        "        # encoder_grads = tape.gradient(var_loss, self.encoder.trainable_weights)\n",
        "        # self.encoder_optimizer.apply_gradients(zip(encoder_grads, self.encoder.trainable_weights))\n",
        "        self.var_optimizer.apply_gradients(zip(var_grads, self.var_model.trainable_weights))\n",
        "\n",
        "        # update state of trackers\n",
        "        self.mle_loss_tracker.update_state(mle_loss)\n",
        "        self.kl_loss_tracker.update_state(kl_loss)\n",
        "        self.var_loss_tracker.update_state(var_loss)\n",
        "        self.mse_tracker.update_state(mse)\n",
        "\n",
        "        return {\n",
        "            \"mse\": self.mse_tracker.result(),\n",
        "            \"var_loss\": self.var_loss_tracker.result(),\n",
        "            \"kl_loss\": self.kl_loss_tracker.result(),\n",
        "            \"mle_loss\": self.mle_loss_tracker.result()\n",
        "        }\n",
        "\n",
        "    def test_step(self, data):\n",
        "\n",
        "        noisy_images, images = data\n",
        "\n",
        "        # forward pass\n",
        "        codes = self.encoder(noisy_images, training = False)\n",
        "        \"\"\"\"masking process\"\"\"\n",
        "        #codes_shape = K.int_shape(codes)[1:]\n",
        "        #comp_param = random.randint(1,64)\n",
        "        #mask = create_mask(codes_shape = codes_shape, comp_param = comp_param)\n",
        "        #codes = tf.multiply(codes, mask)\n",
        "\n",
        "        mean_img = self.mean_model(codes, training = False)\n",
        "        var_img = self.var_model(codes, training = False)\n",
        "\n",
        "        \"\"\"Calculate MSE loss\"\"\"\n",
        "        mse = K.mean(K.square(mean_img - images))\n",
        "\n",
        "        \"\"\"\"Calculate MLE loss\"\"\"\n",
        "        mle_loss = K.log(var_img+self.epsilon) + K.square(mean_img - images) / (var_img+self.epsilon)\n",
        "        mle_loss = K.mean(mle_loss)\n",
        "\n",
        "        \"\"\"Calculate KL loss of Z score\"\"\"\n",
        "        z_score_img = (mean_img - images) / (var_img+self.epsilon)\n",
        "        z_mean = K.mean(z_score_img, axis=[1,2], keepdims=False)\n",
        "        z_log_var = 2*K.log(K.std(z_score_img, axis = [1,2], keepdims=False))\n",
        "        kl_loss = -0.5 * (1 + z_log_var - K.square(z_mean) - K.exp(z_log_var))\n",
        "        kl_loss = K.mean(kl_loss)\n",
        "\n",
        "        \"Variance Loss\"\n",
        "        var_loss = self.beta*kl_loss + mle_loss\n",
        "\n",
        "        self.mse_tracker.reset_states()\n",
        "        self.mle_loss_tracker.reset_states()\n",
        "        self.var_loss_tracker.reset_states()\n",
        "        self.kl_loss_tracker.reset_states()\n",
        "        self.kl_loss_tracker.update_state(kl_loss)\n",
        "        self.mse_tracker.update_state(mse)\n",
        "        self.mle_loss_tracker.update_state(mle_loss)\n",
        "        self.var_loss_tracker.update_state(var_loss)\n",
        "\n",
        "        return {\n",
        "            \"mse\": self.mse_tracker.result(),\n",
        "            \"var_loss\": self.var_loss_tracker.result(),\n",
        "            \"kl_loss\": self.kl_loss_tracker.result(),\n",
        "            \"mle_loss\": self.mle_loss_tracker.result()\n",
        "        }\n",
        "\n",
        "    def custom_predict(self, data, comp_param):\n",
        "        x = data\n",
        "        # forward pass\n",
        "        codes = self.encoder(x, training = False)\n",
        "        \"\"\"\"masking process\"\"\"\n",
        "        codes_shape = K.int_shape(codes)[1:]\n",
        "        comp_param = comp_param\n",
        "        mask = create_mask(codes_shape = codes_shape, comp_param = comp_param)\n",
        "        codes = tf.multiply(codes, mask)\n",
        "\n",
        "        mean_img = self.mean_model(codes, training = False)\n",
        "        var_img = self.var_model(codes, training = False)\n",
        "\n",
        "        return mean_img, var_img\n"
      ]
    },
    {
      "cell_type": "code",
      "execution_count": null,
      "metadata": {
        "colab": {
          "base_uri": "https://localhost:8080/"
        },
        "id": "URPf6CQ9idX2",
        "outputId": "ce62d5e5-2a15-494f-b645-3d6d0ca108cb"
      },
      "outputs": [
        {
          "name": "stdout",
          "output_type": "stream",
          "text": [
            "Model: \"encoder\"\n",
            "_________________________________________________________________\n",
            " Layer (type)                Output Shape              Param #   \n",
            "=================================================================\n",
            " input_1 (InputLayer)        [(None, 64, 64, 1)]       0         \n",
            "                                                                 \n",
            " conv2d (Conv2D)             (None, 64, 64, 128)       1280      \n",
            "                                                                 \n",
            " batch_normalization (BatchN  (None, 64, 64, 128)      512       \n",
            " ormalization)                                                   \n",
            "                                                                 \n",
            " max_pooling2d (MaxPooling2D  (None, 32, 32, 128)      0         \n",
            " )                                                               \n",
            "                                                                 \n",
            " conv2d_1 (Conv2D)           (None, 32, 32, 64)        73792     \n",
            "                                                                 \n",
            " batch_normalization_1 (Batc  (None, 32, 32, 64)       256       \n",
            " hNormalization)                                                 \n",
            "                                                                 \n",
            " max_pooling2d_1 (MaxPooling  (None, 16, 16, 64)       0         \n",
            " 2D)                                                             \n",
            "                                                                 \n",
            " conv2d_2 (Conv2D)           (None, 16, 16, 16)        9232      \n",
            "                                                                 \n",
            " batch_normalization_2 (Batc  (None, 16, 16, 16)       64        \n",
            " hNormalization)                                                 \n",
            "                                                                 \n",
            " max_pooling2d_2 (MaxPooling  (None, 8, 8, 16)         0         \n",
            " 2D)                                                             \n",
            "                                                                 \n",
            "=================================================================\n",
            "Total params: 85,136\n",
            "Trainable params: 84,720\n",
            "Non-trainable params: 416\n",
            "_________________________________________________________________\n",
            "Model: \"mean_model\"\n",
            "_________________________________________________________________\n",
            " Layer (type)                Output Shape              Param #   \n",
            "=================================================================\n",
            " input_2 (InputLayer)        [(None, 8, 8, 16)]        0         \n",
            "                                                                 \n",
            " conv2d_transpose (Conv2DTra  (None, 8, 8, 64)         9280      \n",
            " nspose)                                                         \n",
            "                                                                 \n",
            " batch_normalization_3 (Batc  (None, 8, 8, 64)         256       \n",
            " hNormalization)                                                 \n",
            "                                                                 \n",
            " up_sampling2d (UpSampling2D  (None, 16, 16, 64)       0         \n",
            " )                                                               \n",
            "                                                                 \n",
            " conv2d_transpose_1 (Conv2DT  (None, 16, 16, 128)      73856     \n",
            " ranspose)                                                       \n",
            "                                                                 \n",
            " batch_normalization_4 (Batc  (None, 16, 16, 128)      512       \n",
            " hNormalization)                                                 \n",
            "                                                                 \n",
            " up_sampling2d_1 (UpSampling  (None, 32, 32, 128)      0         \n",
            " 2D)                                                             \n",
            "                                                                 \n",
            " conv2d_transpose_2 (Conv2DT  (None, 32, 32, 256)      295168    \n",
            " ranspose)                                                       \n",
            "                                                                 \n",
            " batch_normalization_5 (Batc  (None, 32, 32, 256)      1024      \n",
            " hNormalization)                                                 \n",
            "                                                                 \n",
            " up_sampling2d_2 (UpSampling  (None, 64, 64, 256)      0         \n",
            " 2D)                                                             \n",
            "                                                                 \n",
            " conv2d_transpose_3 (Conv2DT  (None, 64, 64, 1)        2305      \n",
            " ranspose)                                                       \n",
            "                                                                 \n",
            "=================================================================\n",
            "Total params: 382,401\n",
            "Trainable params: 381,505\n",
            "Non-trainable params: 896\n",
            "_________________________________________________________________\n",
            "Model: \"var_model\"\n",
            "_________________________________________________________________\n",
            " Layer (type)                Output Shape              Param #   \n",
            "=================================================================\n",
            " input_3 (InputLayer)        [(None, 8, 8, 16)]        0         \n",
            "                                                                 \n",
            " conv2d_transpose_4 (Conv2DT  (None, 8, 8, 64)         9280      \n",
            " ranspose)                                                       \n",
            "                                                                 \n",
            " batch_normalization_6 (Batc  (None, 8, 8, 64)         256       \n",
            " hNormalization)                                                 \n",
            "                                                                 \n",
            " up_sampling2d_3 (UpSampling  (None, 16, 16, 64)       0         \n",
            " 2D)                                                             \n",
            "                                                                 \n",
            " conv2d_transpose_5 (Conv2DT  (None, 16, 16, 128)      73856     \n",
            " ranspose)                                                       \n",
            "                                                                 \n",
            " batch_normalization_7 (Batc  (None, 16, 16, 128)      512       \n",
            " hNormalization)                                                 \n",
            "                                                                 \n",
            " up_sampling2d_4 (UpSampling  (None, 32, 32, 128)      0         \n",
            " 2D)                                                             \n",
            "                                                                 \n",
            " conv2d_transpose_6 (Conv2DT  (None, 32, 32, 256)      295168    \n",
            " ranspose)                                                       \n",
            "                                                                 \n",
            " batch_normalization_8 (Batc  (None, 32, 32, 256)      1024      \n",
            " hNormalization)                                                 \n",
            "                                                                 \n",
            " up_sampling2d_5 (UpSampling  (None, 64, 64, 256)      0         \n",
            " 2D)                                                             \n",
            "                                                                 \n",
            " conv2d_transpose_7 (Conv2DT  (None, 64, 64, 1)        2305      \n",
            " ranspose)                                                       \n",
            "                                                                 \n",
            "=================================================================\n",
            "Total params: 382,401\n",
            "Trainable params: 381,505\n",
            "Non-trainable params: 896\n",
            "_________________________________________________________________\n"
          ]
        }
      ],
      "source": [
        "# set hyperparameters\n",
        "encoding_dim = 128\n",
        "epochs = 30\n",
        "batch_size = 64\n",
        "steps_per_epoch = 1000\n",
        "encoding_filters = [128, 64, 16]\n",
        "decoding_filters = [64, 128, 256]\n",
        "encoding_dense = []\n",
        "decoding_dense = []\n",
        "learning_rate = 0.0005\n",
        "epsilon = noise_std**2\n",
        "beta = 0\n",
        "\n",
        "\"\"\"\"\n",
        "- 1 encoder, 2 decoders for mean and variance image predictions\n",
        "- fully Convolutional model will use hybrid loss, no need to specify encoding_dim\n",
        "\"\"\"\n",
        "\n",
        "# autoencoder architecture\n",
        "\n",
        "with tf.device(device_name = '/device:GPU:0'):\n",
        "\n",
        "    input = keras.Input(shape = input_shape)\n",
        "    enc_layer = input\n",
        "\n",
        "    # encoder\n",
        "    for filter in encoding_filters:\n",
        "        enc_layer = keras.layers.Conv2D(filter, (3,3), activation = 'relu', padding = 'same')(enc_layer)\n",
        "        enc_layer = keras.layers.BatchNormalization()(enc_layer)\n",
        "        enc_layer = keras.layers.MaxPooling2D((2,2), padding = 'same')(enc_layer)\n",
        "\n",
        "    shape_before_flatten = K.int_shape(enc_layer)[1:]\n",
        "\n",
        "    mean_layer = enc_layer\n",
        "\n",
        "    for filter in decoding_filters:\n",
        "        mean_layer = keras.layers.Conv2DTranspose(filter, (3,3), activation = 'relu', padding = 'same')(mean_layer)\n",
        "        mean_layer = keras.layers.BatchNormalization()(mean_layer)\n",
        "        mean_layer = keras.layers.UpSampling2D((2,2))(mean_layer)\n",
        "\n",
        "    mean_predict = keras.layers.Conv2DTranspose(1, (3,3), activation = 'relu', padding = 'same')(mean_layer)\n",
        "\n",
        "    var_layer = enc_layer\n",
        "\n",
        "    for filter in decoding_filters:\n",
        "        var_layer = keras.layers.Conv2DTranspose(filter, (3,3), activation = 'relu', padding = 'same')(var_layer)\n",
        "        var_layer = keras.layers.BatchNormalization()(var_layer)\n",
        "        var_layer = keras.layers.UpSampling2D((2,2))(var_layer)\n",
        "\n",
        "    var_predict = keras.layers.Conv2DTranspose(1, (3,3), activation = 'relu', padding = 'same')(var_layer)\n",
        "\n",
        "    mean_model = keras.Model(enc_layer, mean_predict, name = 'mean_model')\n",
        "    var_model = keras.Model(enc_layer, var_predict, name = 'var_model')\n",
        "\n",
        "    encoder = keras.Model(input, enc_layer, name = 'encoder')\n",
        "\n",
        "\n",
        "    autoencoder_C = GAE(input, [mean_predict, var_predict])\n",
        "    mean_optimizer = tf.keras.optimizers.Adam(learning_rate=learning_rate)\n",
        "    var_optimizer = tf.keras.optimizers.Adam(learning_rate=learning_rate)\n",
        "    encoder_optimizer = tf.keras.optimizers.Adam(learning_rate = learning_rate)\n",
        "\n",
        "    autoencoder_C.gae_compile(mean_model = mean_model, var_model = var_model, encoder = encoder,\n",
        "                                mean_optimizer=mean_optimizer, var_optimizer = var_optimizer,\n",
        "                                encoder_optimizer = encoder_optimizer,\n",
        "                                epsilon = epsilon,\n",
        "                                encoding_dim = encoding_dim,\n",
        "                                beta = beta\n",
        "                                )\n",
        "\n",
        "    encoder.summary()\n",
        "    mean_model.summary()\n",
        "    var_model.summary()"
      ]
    },
    {
      "cell_type": "code",
      "execution_count": null,
      "metadata": {
        "colab": {
          "base_uri": "https://localhost:8080/",
          "height": 1000,
          "referenced_widgets": [
            "18a6df968d484c19940cc46878d3a173",
            "42b1a615c6ef477eb99eafaaef3dda9c",
            "f6616099e88043b5a25ead17d97230ca",
            "bc9541aafd9b4286a8424f4834f4dc2c",
            "cc50e46d73214dd793f76430a57892d5",
            "5b68fd9a65b14be18f50f7b7aa89c574",
            "c891b44f5ee74c84803ded0068d80e04",
            "9725537a5691484d9f01c8f551885966"
          ]
        },
        "id": "QCYiIz8gidX3",
        "outputId": "3fe9b107-d5ee-493b-d8e0-f359d6a98a00"
      },
      "outputs": [
        {
          "data": {
            "text/html": [
              "Finishing last run (ID:c8s3bqmt) before initializing another..."
            ],
            "text/plain": [
              "<IPython.core.display.HTML object>"
            ]
          },
          "metadata": {},
          "output_type": "display_data"
        },
        {
          "data": {
            "text/html": [
              "Waiting for W&B process to finish... <strong style=\"color:green\">(success).</strong>"
            ],
            "text/plain": [
              "<IPython.core.display.HTML object>"
            ]
          },
          "metadata": {},
          "output_type": "display_data"
        },
        {
          "data": {
            "application/vnd.jupyter.widget-view+json": {
              "model_id": "18a6df968d484c19940cc46878d3a173",
              "version_major": 2,
              "version_minor": 0
            },
            "text/plain": [
              "VBox(children=(Label(value='0.002 MB of 0.002 MB uploaded (0.000 MB deduped)\\r'), FloatProgress(value=1.0, max…"
            ]
          },
          "metadata": {},
          "output_type": "display_data"
        },
        {
          "data": {
            "text/html": [
              " View run <strong style=\"color:#cdcd00\">dandy-armadillo-15</strong> at: <a href='https://wandb.ai/cuzime/denoiser/runs/c8s3bqmt' target=\"_blank\">https://wandb.ai/cuzime/denoiser/runs/c8s3bqmt</a><br/>Synced 5 W&B file(s), 0 media file(s), 0 artifact file(s) and 0 other file(s)"
            ],
            "text/plain": [
              "<IPython.core.display.HTML object>"
            ]
          },
          "metadata": {},
          "output_type": "display_data"
        },
        {
          "data": {
            "text/html": [
              "Find logs at: <code>./wandb/run-20230427_065102-c8s3bqmt/logs</code>"
            ],
            "text/plain": [
              "<IPython.core.display.HTML object>"
            ]
          },
          "metadata": {},
          "output_type": "display_data"
        },
        {
          "data": {
            "text/html": [
              "Successfully finished last run (ID:c8s3bqmt). Initializing new run:<br/>"
            ],
            "text/plain": [
              "<IPython.core.display.HTML object>"
            ]
          },
          "metadata": {},
          "output_type": "display_data"
        },
        {
          "data": {
            "text/html": [
              "Tracking run with wandb version 0.15.0"
            ],
            "text/plain": [
              "<IPython.core.display.HTML object>"
            ]
          },
          "metadata": {},
          "output_type": "display_data"
        },
        {
          "data": {
            "text/html": [
              "Run data is saved locally in <code>/content/wandb/run-20230427_065130-q85gpe3r</code>"
            ],
            "text/plain": [
              "<IPython.core.display.HTML object>"
            ]
          },
          "metadata": {},
          "output_type": "display_data"
        },
        {
          "data": {
            "text/html": [
              "Syncing run <strong><a href='https://wandb.ai/cuzime/denoiser/runs/q85gpe3r' target=\"_blank\">tough-hill-16</a></strong> to <a href='https://wandb.ai/cuzime/denoiser' target=\"_blank\">Weights & Biases</a> (<a href='https://wandb.me/run' target=\"_blank\">docs</a>)<br/>"
            ],
            "text/plain": [
              "<IPython.core.display.HTML object>"
            ]
          },
          "metadata": {},
          "output_type": "display_data"
        },
        {
          "data": {
            "text/html": [
              " View project at <a href='https://wandb.ai/cuzime/denoiser' target=\"_blank\">https://wandb.ai/cuzime/denoiser</a>"
            ],
            "text/plain": [
              "<IPython.core.display.HTML object>"
            ]
          },
          "metadata": {},
          "output_type": "display_data"
        },
        {
          "data": {
            "text/html": [
              " View run at <a href='https://wandb.ai/cuzime/denoiser/runs/q85gpe3r' target=\"_blank\">https://wandb.ai/cuzime/denoiser/runs/q85gpe3r</a>"
            ],
            "text/plain": [
              "<IPython.core.display.HTML object>"
            ]
          },
          "metadata": {},
          "output_type": "display_data"
        },
        {
          "name": "stdout",
          "output_type": "stream",
          "text": [
            "Epoch 1/30\n",
            "1000/1000 [==============================] - 110s 108ms/step - mse: 0.3341 - var_loss: 0.5754 - kl_loss: 5.0104 - mle_loss: 0.5754 - val_mle_loss: -0.5073 - val_kl_loss: 1.8985 - val_var_loss: -0.5073 - val_mse: 0.2671\n",
            "Epoch 2/30\n",
            "1000/1000 [==============================] - 107s 107ms/step - mse: 0.2131 - var_loss: -0.8006 - kl_loss: 1.0251 - mle_loss: -0.8006 - val_mle_loss: -0.8259 - val_kl_loss: 1.1044 - val_var_loss: -0.8259 - val_mse: 0.2137\n",
            "Epoch 3/30\n",
            "1000/1000 [==============================] - 107s 107ms/step - mse: 0.2005 - var_loss: -0.5977 - kl_loss: 1.2257 - mle_loss: -0.5977 - val_mle_loss: -0.8699 - val_kl_loss: 1.2715 - val_var_loss: -0.8699 - val_mse: 0.2031\n",
            "Epoch 4/30\n",
            "1000/1000 [==============================] - 107s 107ms/step - mse: 0.1808 - var_loss: -0.9208 - kl_loss: 1.2791 - mle_loss: -0.9208 - val_mle_loss: -0.9136 - val_kl_loss: 1.3381 - val_var_loss: -0.9136 - val_mse: 0.1859\n",
            "Epoch 5/30\n",
            "1000/1000 [==============================] - 106s 106ms/step - mse: 0.1710 - var_loss: -0.9732 - kl_loss: 1.2792 - mle_loss: -0.9732 - val_mle_loss: -0.0809 - val_kl_loss: 2.7081 - val_var_loss: -0.0809 - val_mse: 0.2180\n",
            "Epoch 6/30\n",
            "1000/1000 [==============================] - 108s 108ms/step - mse: 0.1699 - var_loss: -0.9344 - kl_loss: 1.3551 - mle_loss: -0.9344 - val_mle_loss: -0.9651 - val_kl_loss: 1.2285 - val_var_loss: -0.9651 - val_mse: 0.1787\n",
            "Epoch 7/30\n",
            "1000/1000 [==============================] - 107s 107ms/step - mse: 0.1633 - var_loss: -1.0085 - kl_loss: 1.3074 - mle_loss: -1.0085 - val_mle_loss: -0.9908 - val_kl_loss: 1.2605 - val_var_loss: -0.9908 - val_mse: 0.1709\n",
            "Epoch 8/30\n",
            "1000/1000 [==============================] - 107s 107ms/step - mse: 0.1717 - var_loss: -0.8397 - kl_loss: 1.3036 - mle_loss: -0.8397 - val_mle_loss: -0.2865 - val_kl_loss: 0.9869 - val_var_loss: -0.2865 - val_mse: 0.2624\n",
            "Epoch 9/30\n",
            "1000/1000 [==============================] - 107s 107ms/step - mse: 0.1649 - var_loss: -0.9212 - kl_loss: 1.3254 - mle_loss: -0.9212 - val_mle_loss: -0.9821 - val_kl_loss: 1.1949 - val_var_loss: -0.9821 - val_mse: 0.1702\n",
            "Epoch 10/30\n",
            "1000/1000 [==============================] - 107s 107ms/step - mse: 0.1631 - var_loss: -1.0001 - kl_loss: 1.2987 - mle_loss: -1.0001 - val_mle_loss: -0.9933 - val_kl_loss: 1.4535 - val_var_loss: -0.9933 - val_mse: 0.1704\n",
            "Epoch 11/30\n",
            " 412/1000 [===========>..................] - ETA: 1:02 - mse: 0.1692 - var_loss: -0.9873 - kl_loss: 1.2837 - mle_loss: -0.9873"
          ]
        },
        {
          "ename": "KeyboardInterrupt",
          "evalue": "ignored",
          "output_type": "error",
          "traceback": [
            "\u001b[0;31m---------------------------------------------------------------------------\u001b[0m",
            "\u001b[0;31mKeyboardInterrupt\u001b[0m                         Traceback (most recent call last)",
            "\u001b[0;32m<ipython-input-32-0301a2bfb78e>\u001b[0m in \u001b[0;36m<cell line: 39>\u001b[0;34m()\u001b[0m\n\u001b[1;32m     38\u001b[0m \u001b[0;34m\u001b[0m\u001b[0m\n\u001b[1;32m     39\u001b[0m \u001b[0;32mwith\u001b[0m \u001b[0mtf\u001b[0m\u001b[0;34m.\u001b[0m\u001b[0mdevice\u001b[0m\u001b[0;34m(\u001b[0m\u001b[0mdevice_name\u001b[0m \u001b[0;34m=\u001b[0m \u001b[0;34m'/device:GPU:0'\u001b[0m\u001b[0;34m)\u001b[0m\u001b[0;34m:\u001b[0m\u001b[0;34m\u001b[0m\u001b[0;34m\u001b[0m\u001b[0m\n\u001b[0;32m---> 40\u001b[0;31m     autoencoder_C.fit(x = generate_synth_batch(batch_size), epochs = epochs, \n\u001b[0m\u001b[1;32m     41\u001b[0m                       \u001b[0msteps_per_epoch\u001b[0m \u001b[0;34m=\u001b[0m \u001b[0msteps_per_epoch\u001b[0m\u001b[0;34m,\u001b[0m\u001b[0;34m\u001b[0m\u001b[0;34m\u001b[0m\u001b[0m\n\u001b[1;32m     42\u001b[0m                       \u001b[0mbatch_size\u001b[0m \u001b[0;34m=\u001b[0m \u001b[0mbatch_size\u001b[0m\u001b[0;34m,\u001b[0m\u001b[0;34m\u001b[0m\u001b[0;34m\u001b[0m\u001b[0m\n",
            "\u001b[0;32m/usr/local/lib/python3.9/dist-packages/wandb/integration/keras/keras.py\u001b[0m in \u001b[0;36mnew_v2\u001b[0;34m(*args, **kwargs)\u001b[0m\n\u001b[1;32m    172\u001b[0m             \u001b[0;32mfor\u001b[0m \u001b[0mcbk\u001b[0m \u001b[0;32min\u001b[0m \u001b[0mcbks\u001b[0m\u001b[0;34m:\u001b[0m\u001b[0;34m\u001b[0m\u001b[0;34m\u001b[0m\u001b[0m\n\u001b[1;32m    173\u001b[0m                 \u001b[0mset_wandb_attrs\u001b[0m\u001b[0;34m(\u001b[0m\u001b[0mcbk\u001b[0m\u001b[0;34m,\u001b[0m \u001b[0mval_data\u001b[0m\u001b[0;34m)\u001b[0m\u001b[0;34m\u001b[0m\u001b[0;34m\u001b[0m\u001b[0m\n\u001b[0;32m--> 174\u001b[0;31m         \u001b[0;32mreturn\u001b[0m \u001b[0mold_v2\u001b[0m\u001b[0;34m(\u001b[0m\u001b[0;34m*\u001b[0m\u001b[0margs\u001b[0m\u001b[0;34m,\u001b[0m \u001b[0;34m**\u001b[0m\u001b[0mkwargs\u001b[0m\u001b[0;34m)\u001b[0m\u001b[0;34m\u001b[0m\u001b[0;34m\u001b[0m\u001b[0m\n\u001b[0m\u001b[1;32m    175\u001b[0m \u001b[0;34m\u001b[0m\u001b[0m\n\u001b[1;32m    176\u001b[0m     \u001b[0mtraining_arrays\u001b[0m\u001b[0;34m.\u001b[0m\u001b[0morig_fit_loop\u001b[0m \u001b[0;34m=\u001b[0m \u001b[0mold_arrays\u001b[0m\u001b[0;34m\u001b[0m\u001b[0;34m\u001b[0m\u001b[0m\n",
            "\u001b[0;32m/usr/local/lib/python3.9/dist-packages/wandb/integration/keras/keras.py\u001b[0m in \u001b[0;36mnew_v2\u001b[0;34m(*args, **kwargs)\u001b[0m\n\u001b[1;32m    172\u001b[0m             \u001b[0;32mfor\u001b[0m \u001b[0mcbk\u001b[0m \u001b[0;32min\u001b[0m \u001b[0mcbks\u001b[0m\u001b[0;34m:\u001b[0m\u001b[0;34m\u001b[0m\u001b[0;34m\u001b[0m\u001b[0m\n\u001b[1;32m    173\u001b[0m                 \u001b[0mset_wandb_attrs\u001b[0m\u001b[0;34m(\u001b[0m\u001b[0mcbk\u001b[0m\u001b[0;34m,\u001b[0m \u001b[0mval_data\u001b[0m\u001b[0;34m)\u001b[0m\u001b[0;34m\u001b[0m\u001b[0;34m\u001b[0m\u001b[0m\n\u001b[0;32m--> 174\u001b[0;31m         \u001b[0;32mreturn\u001b[0m \u001b[0mold_v2\u001b[0m\u001b[0;34m(\u001b[0m\u001b[0;34m*\u001b[0m\u001b[0margs\u001b[0m\u001b[0;34m,\u001b[0m \u001b[0;34m**\u001b[0m\u001b[0mkwargs\u001b[0m\u001b[0;34m)\u001b[0m\u001b[0;34m\u001b[0m\u001b[0;34m\u001b[0m\u001b[0m\n\u001b[0m\u001b[1;32m    175\u001b[0m \u001b[0;34m\u001b[0m\u001b[0m\n\u001b[1;32m    176\u001b[0m     \u001b[0mtraining_arrays\u001b[0m\u001b[0;34m.\u001b[0m\u001b[0morig_fit_loop\u001b[0m \u001b[0;34m=\u001b[0m \u001b[0mold_arrays\u001b[0m\u001b[0;34m\u001b[0m\u001b[0;34m\u001b[0m\u001b[0m\n",
            "\u001b[0;32m/usr/local/lib/python3.9/dist-packages/wandb/integration/keras/keras.py\u001b[0m in \u001b[0;36mnew_v2\u001b[0;34m(*args, **kwargs)\u001b[0m\n\u001b[1;32m    172\u001b[0m             \u001b[0;32mfor\u001b[0m \u001b[0mcbk\u001b[0m \u001b[0;32min\u001b[0m \u001b[0mcbks\u001b[0m\u001b[0;34m:\u001b[0m\u001b[0;34m\u001b[0m\u001b[0;34m\u001b[0m\u001b[0m\n\u001b[1;32m    173\u001b[0m                 \u001b[0mset_wandb_attrs\u001b[0m\u001b[0;34m(\u001b[0m\u001b[0mcbk\u001b[0m\u001b[0;34m,\u001b[0m \u001b[0mval_data\u001b[0m\u001b[0;34m)\u001b[0m\u001b[0;34m\u001b[0m\u001b[0;34m\u001b[0m\u001b[0m\n\u001b[0;32m--> 174\u001b[0;31m         \u001b[0;32mreturn\u001b[0m \u001b[0mold_v2\u001b[0m\u001b[0;34m(\u001b[0m\u001b[0;34m*\u001b[0m\u001b[0margs\u001b[0m\u001b[0;34m,\u001b[0m \u001b[0;34m**\u001b[0m\u001b[0mkwargs\u001b[0m\u001b[0;34m)\u001b[0m\u001b[0;34m\u001b[0m\u001b[0;34m\u001b[0m\u001b[0m\n\u001b[0m\u001b[1;32m    175\u001b[0m \u001b[0;34m\u001b[0m\u001b[0m\n\u001b[1;32m    176\u001b[0m     \u001b[0mtraining_arrays\u001b[0m\u001b[0;34m.\u001b[0m\u001b[0morig_fit_loop\u001b[0m \u001b[0;34m=\u001b[0m \u001b[0mold_arrays\u001b[0m\u001b[0;34m\u001b[0m\u001b[0;34m\u001b[0m\u001b[0m\n",
            "\u001b[0;32m/usr/local/lib/python3.9/dist-packages/keras/utils/traceback_utils.py\u001b[0m in \u001b[0;36merror_handler\u001b[0;34m(*args, **kwargs)\u001b[0m\n\u001b[1;32m     63\u001b[0m         \u001b[0mfiltered_tb\u001b[0m \u001b[0;34m=\u001b[0m \u001b[0;32mNone\u001b[0m\u001b[0;34m\u001b[0m\u001b[0;34m\u001b[0m\u001b[0m\n\u001b[1;32m     64\u001b[0m         \u001b[0;32mtry\u001b[0m\u001b[0;34m:\u001b[0m\u001b[0;34m\u001b[0m\u001b[0;34m\u001b[0m\u001b[0m\n\u001b[0;32m---> 65\u001b[0;31m             \u001b[0;32mreturn\u001b[0m \u001b[0mfn\u001b[0m\u001b[0;34m(\u001b[0m\u001b[0;34m*\u001b[0m\u001b[0margs\u001b[0m\u001b[0;34m,\u001b[0m \u001b[0;34m**\u001b[0m\u001b[0mkwargs\u001b[0m\u001b[0;34m)\u001b[0m\u001b[0;34m\u001b[0m\u001b[0;34m\u001b[0m\u001b[0m\n\u001b[0m\u001b[1;32m     66\u001b[0m         \u001b[0;32mexcept\u001b[0m \u001b[0mException\u001b[0m \u001b[0;32mas\u001b[0m \u001b[0me\u001b[0m\u001b[0;34m:\u001b[0m\u001b[0;34m\u001b[0m\u001b[0;34m\u001b[0m\u001b[0m\n\u001b[1;32m     67\u001b[0m             \u001b[0mfiltered_tb\u001b[0m \u001b[0;34m=\u001b[0m \u001b[0m_process_traceback_frames\u001b[0m\u001b[0;34m(\u001b[0m\u001b[0me\u001b[0m\u001b[0;34m.\u001b[0m\u001b[0m__traceback__\u001b[0m\u001b[0;34m)\u001b[0m\u001b[0;34m\u001b[0m\u001b[0;34m\u001b[0m\u001b[0m\n",
            "\u001b[0;32m/usr/local/lib/python3.9/dist-packages/keras/engine/training.py\u001b[0m in \u001b[0;36mfit\u001b[0;34m(self, x, y, batch_size, epochs, verbose, callbacks, validation_split, validation_data, shuffle, class_weight, sample_weight, initial_epoch, steps_per_epoch, validation_steps, validation_batch_size, validation_freq, max_queue_size, workers, use_multiprocessing)\u001b[0m\n\u001b[1;32m   1683\u001b[0m                         ):\n\u001b[1;32m   1684\u001b[0m                             \u001b[0mcallbacks\u001b[0m\u001b[0;34m.\u001b[0m\u001b[0mon_train_batch_begin\u001b[0m\u001b[0;34m(\u001b[0m\u001b[0mstep\u001b[0m\u001b[0;34m)\u001b[0m\u001b[0;34m\u001b[0m\u001b[0;34m\u001b[0m\u001b[0m\n\u001b[0;32m-> 1685\u001b[0;31m                             \u001b[0mtmp_logs\u001b[0m \u001b[0;34m=\u001b[0m \u001b[0mself\u001b[0m\u001b[0;34m.\u001b[0m\u001b[0mtrain_function\u001b[0m\u001b[0;34m(\u001b[0m\u001b[0miterator\u001b[0m\u001b[0;34m)\u001b[0m\u001b[0;34m\u001b[0m\u001b[0;34m\u001b[0m\u001b[0m\n\u001b[0m\u001b[1;32m   1686\u001b[0m                             \u001b[0;32mif\u001b[0m \u001b[0mdata_handler\u001b[0m\u001b[0;34m.\u001b[0m\u001b[0mshould_sync\u001b[0m\u001b[0;34m:\u001b[0m\u001b[0;34m\u001b[0m\u001b[0;34m\u001b[0m\u001b[0m\n\u001b[1;32m   1687\u001b[0m                                 \u001b[0mcontext\u001b[0m\u001b[0;34m.\u001b[0m\u001b[0masync_wait\u001b[0m\u001b[0;34m(\u001b[0m\u001b[0;34m)\u001b[0m\u001b[0;34m\u001b[0m\u001b[0;34m\u001b[0m\u001b[0m\n",
            "\u001b[0;32m/usr/local/lib/python3.9/dist-packages/tensorflow/python/util/traceback_utils.py\u001b[0m in \u001b[0;36merror_handler\u001b[0;34m(*args, **kwargs)\u001b[0m\n\u001b[1;32m    148\u001b[0m     \u001b[0mfiltered_tb\u001b[0m \u001b[0;34m=\u001b[0m \u001b[0;32mNone\u001b[0m\u001b[0;34m\u001b[0m\u001b[0;34m\u001b[0m\u001b[0m\n\u001b[1;32m    149\u001b[0m     \u001b[0;32mtry\u001b[0m\u001b[0;34m:\u001b[0m\u001b[0;34m\u001b[0m\u001b[0;34m\u001b[0m\u001b[0m\n\u001b[0;32m--> 150\u001b[0;31m       \u001b[0;32mreturn\u001b[0m \u001b[0mfn\u001b[0m\u001b[0;34m(\u001b[0m\u001b[0;34m*\u001b[0m\u001b[0margs\u001b[0m\u001b[0;34m,\u001b[0m \u001b[0;34m**\u001b[0m\u001b[0mkwargs\u001b[0m\u001b[0;34m)\u001b[0m\u001b[0;34m\u001b[0m\u001b[0;34m\u001b[0m\u001b[0m\n\u001b[0m\u001b[1;32m    151\u001b[0m     \u001b[0;32mexcept\u001b[0m \u001b[0mException\u001b[0m \u001b[0;32mas\u001b[0m \u001b[0me\u001b[0m\u001b[0;34m:\u001b[0m\u001b[0;34m\u001b[0m\u001b[0;34m\u001b[0m\u001b[0m\n\u001b[1;32m    152\u001b[0m       \u001b[0mfiltered_tb\u001b[0m \u001b[0;34m=\u001b[0m \u001b[0m_process_traceback_frames\u001b[0m\u001b[0;34m(\u001b[0m\u001b[0me\u001b[0m\u001b[0;34m.\u001b[0m\u001b[0m__traceback__\u001b[0m\u001b[0;34m)\u001b[0m\u001b[0;34m\u001b[0m\u001b[0;34m\u001b[0m\u001b[0m\n",
            "\u001b[0;32m/usr/local/lib/python3.9/dist-packages/tensorflow/python/eager/polymorphic_function/polymorphic_function.py\u001b[0m in \u001b[0;36m__call__\u001b[0;34m(self, *args, **kwds)\u001b[0m\n\u001b[1;32m    892\u001b[0m \u001b[0;34m\u001b[0m\u001b[0m\n\u001b[1;32m    893\u001b[0m       \u001b[0;32mwith\u001b[0m \u001b[0mOptionalXlaContext\u001b[0m\u001b[0;34m(\u001b[0m\u001b[0mself\u001b[0m\u001b[0;34m.\u001b[0m\u001b[0m_jit_compile\u001b[0m\u001b[0;34m)\u001b[0m\u001b[0;34m:\u001b[0m\u001b[0;34m\u001b[0m\u001b[0;34m\u001b[0m\u001b[0m\n\u001b[0;32m--> 894\u001b[0;31m         \u001b[0mresult\u001b[0m \u001b[0;34m=\u001b[0m \u001b[0mself\u001b[0m\u001b[0;34m.\u001b[0m\u001b[0m_call\u001b[0m\u001b[0;34m(\u001b[0m\u001b[0;34m*\u001b[0m\u001b[0margs\u001b[0m\u001b[0;34m,\u001b[0m \u001b[0;34m**\u001b[0m\u001b[0mkwds\u001b[0m\u001b[0;34m)\u001b[0m\u001b[0;34m\u001b[0m\u001b[0;34m\u001b[0m\u001b[0m\n\u001b[0m\u001b[1;32m    895\u001b[0m \u001b[0;34m\u001b[0m\u001b[0m\n\u001b[1;32m    896\u001b[0m       \u001b[0mnew_tracing_count\u001b[0m \u001b[0;34m=\u001b[0m \u001b[0mself\u001b[0m\u001b[0;34m.\u001b[0m\u001b[0mexperimental_get_tracing_count\u001b[0m\u001b[0;34m(\u001b[0m\u001b[0;34m)\u001b[0m\u001b[0;34m\u001b[0m\u001b[0;34m\u001b[0m\u001b[0m\n",
            "\u001b[0;32m/usr/local/lib/python3.9/dist-packages/tensorflow/python/eager/polymorphic_function/polymorphic_function.py\u001b[0m in \u001b[0;36m_call\u001b[0;34m(self, *args, **kwds)\u001b[0m\n\u001b[1;32m    924\u001b[0m       \u001b[0;31m# In this case we have created variables on the first call, so we run the\u001b[0m\u001b[0;34m\u001b[0m\u001b[0;34m\u001b[0m\u001b[0m\n\u001b[1;32m    925\u001b[0m       \u001b[0;31m# defunned version which is guaranteed to never create variables.\u001b[0m\u001b[0;34m\u001b[0m\u001b[0;34m\u001b[0m\u001b[0m\n\u001b[0;32m--> 926\u001b[0;31m       \u001b[0;32mreturn\u001b[0m \u001b[0mself\u001b[0m\u001b[0;34m.\u001b[0m\u001b[0m_no_variable_creation_fn\u001b[0m\u001b[0;34m(\u001b[0m\u001b[0;34m*\u001b[0m\u001b[0margs\u001b[0m\u001b[0;34m,\u001b[0m \u001b[0;34m**\u001b[0m\u001b[0mkwds\u001b[0m\u001b[0;34m)\u001b[0m  \u001b[0;31m# pylint: disable=not-callable\u001b[0m\u001b[0;34m\u001b[0m\u001b[0;34m\u001b[0m\u001b[0m\n\u001b[0m\u001b[1;32m    927\u001b[0m     \u001b[0;32melif\u001b[0m \u001b[0mself\u001b[0m\u001b[0;34m.\u001b[0m\u001b[0m_variable_creation_fn\u001b[0m \u001b[0;32mis\u001b[0m \u001b[0;32mnot\u001b[0m \u001b[0;32mNone\u001b[0m\u001b[0;34m:\u001b[0m\u001b[0;34m\u001b[0m\u001b[0;34m\u001b[0m\u001b[0m\n\u001b[1;32m    928\u001b[0m       \u001b[0;31m# Release the lock early so that multiple threads can perform the call\u001b[0m\u001b[0;34m\u001b[0m\u001b[0;34m\u001b[0m\u001b[0m\n",
            "\u001b[0;32m/usr/local/lib/python3.9/dist-packages/tensorflow/python/eager/polymorphic_function/tracing_compiler.py\u001b[0m in \u001b[0;36m__call__\u001b[0;34m(self, *args, **kwargs)\u001b[0m\n\u001b[1;32m    141\u001b[0m       (concrete_function,\n\u001b[1;32m    142\u001b[0m        filtered_flat_args) = self._maybe_define_function(args, kwargs)\n\u001b[0;32m--> 143\u001b[0;31m     return concrete_function._call_flat(\n\u001b[0m\u001b[1;32m    144\u001b[0m         filtered_flat_args, captured_inputs=concrete_function.captured_inputs)  # pylint: disable=protected-access\n\u001b[1;32m    145\u001b[0m \u001b[0;34m\u001b[0m\u001b[0m\n",
            "\u001b[0;32m/usr/local/lib/python3.9/dist-packages/tensorflow/python/eager/polymorphic_function/monomorphic_function.py\u001b[0m in \u001b[0;36m_call_flat\u001b[0;34m(self, args, captured_inputs, cancellation_manager)\u001b[0m\n\u001b[1;32m   1755\u001b[0m         and executing_eagerly):\n\u001b[1;32m   1756\u001b[0m       \u001b[0;31m# No tape is watching; skip to running the function.\u001b[0m\u001b[0;34m\u001b[0m\u001b[0;34m\u001b[0m\u001b[0m\n\u001b[0;32m-> 1757\u001b[0;31m       return self._build_call_outputs(self._inference_function.call(\n\u001b[0m\u001b[1;32m   1758\u001b[0m           ctx, args, cancellation_manager=cancellation_manager))\n\u001b[1;32m   1759\u001b[0m     forward_backward = self._select_forward_and_backward_functions(\n",
            "\u001b[0;32m/usr/local/lib/python3.9/dist-packages/tensorflow/python/eager/polymorphic_function/monomorphic_function.py\u001b[0m in \u001b[0;36mcall\u001b[0;34m(self, ctx, args, cancellation_manager)\u001b[0m\n\u001b[1;32m    379\u001b[0m       \u001b[0;32mwith\u001b[0m \u001b[0m_InterpolateFunctionError\u001b[0m\u001b[0;34m(\u001b[0m\u001b[0mself\u001b[0m\u001b[0;34m)\u001b[0m\u001b[0;34m:\u001b[0m\u001b[0;34m\u001b[0m\u001b[0;34m\u001b[0m\u001b[0m\n\u001b[1;32m    380\u001b[0m         \u001b[0;32mif\u001b[0m \u001b[0mcancellation_manager\u001b[0m \u001b[0;32mis\u001b[0m \u001b[0;32mNone\u001b[0m\u001b[0;34m:\u001b[0m\u001b[0;34m\u001b[0m\u001b[0;34m\u001b[0m\u001b[0m\n\u001b[0;32m--> 381\u001b[0;31m           outputs = execute.execute(\n\u001b[0m\u001b[1;32m    382\u001b[0m               \u001b[0mstr\u001b[0m\u001b[0;34m(\u001b[0m\u001b[0mself\u001b[0m\u001b[0;34m.\u001b[0m\u001b[0msignature\u001b[0m\u001b[0;34m.\u001b[0m\u001b[0mname\u001b[0m\u001b[0;34m)\u001b[0m\u001b[0;34m,\u001b[0m\u001b[0;34m\u001b[0m\u001b[0;34m\u001b[0m\u001b[0m\n\u001b[1;32m    383\u001b[0m               \u001b[0mnum_outputs\u001b[0m\u001b[0;34m=\u001b[0m\u001b[0mself\u001b[0m\u001b[0;34m.\u001b[0m\u001b[0m_num_outputs\u001b[0m\u001b[0;34m,\u001b[0m\u001b[0;34m\u001b[0m\u001b[0;34m\u001b[0m\u001b[0m\n",
            "\u001b[0;32m/usr/local/lib/python3.9/dist-packages/tensorflow/python/eager/execute.py\u001b[0m in \u001b[0;36mquick_execute\u001b[0;34m(op_name, num_outputs, inputs, attrs, ctx, name)\u001b[0m\n\u001b[1;32m     50\u001b[0m   \u001b[0;32mtry\u001b[0m\u001b[0;34m:\u001b[0m\u001b[0;34m\u001b[0m\u001b[0;34m\u001b[0m\u001b[0m\n\u001b[1;32m     51\u001b[0m     \u001b[0mctx\u001b[0m\u001b[0;34m.\u001b[0m\u001b[0mensure_initialized\u001b[0m\u001b[0;34m(\u001b[0m\u001b[0;34m)\u001b[0m\u001b[0;34m\u001b[0m\u001b[0;34m\u001b[0m\u001b[0m\n\u001b[0;32m---> 52\u001b[0;31m     tensors = pywrap_tfe.TFE_Py_Execute(ctx._handle, device_name, op_name,\n\u001b[0m\u001b[1;32m     53\u001b[0m                                         inputs, attrs, num_outputs)\n\u001b[1;32m     54\u001b[0m   \u001b[0;32mexcept\u001b[0m \u001b[0mcore\u001b[0m\u001b[0;34m.\u001b[0m\u001b[0m_NotOkStatusException\u001b[0m \u001b[0;32mas\u001b[0m \u001b[0me\u001b[0m\u001b[0;34m:\u001b[0m\u001b[0;34m\u001b[0m\u001b[0;34m\u001b[0m\u001b[0m\n",
            "\u001b[0;31mKeyboardInterrupt\u001b[0m: "
          ]
        }
      ],
      "source": [
        "# WANDB INIT\n",
        "\n",
        "# start run, tracking hyperparameters\n",
        "run = wandb.init(mode = 'online',\n",
        "    #set project\n",
        "    project = \"denoiser\",\n",
        "\n",
        "    config = {\n",
        "        \"epochs\": epochs,\n",
        "        \"steps_per_epoch\": steps_per_epoch,\n",
        "        \"batch_size\": batch_size,\n",
        "        \"encoding_dim\": encoding_dim,\n",
        "        \"encoder_filters\": encoding_filters,\n",
        "        \"encoder_dense\": encoding_dense,\n",
        "        \"decoder_dense\" : decoding_dense,\n",
        "        \"decoder_filters\": decoding_filters,\n",
        "        \"input_shape\": input_shape,\n",
        "        \"shape\": shape,\n",
        "        \"amp_min\": amp_min,\n",
        "        \"amp_max\": amp_max,\n",
        "        \"size_min\": size_min,\n",
        "        \"size_max\": size_max,\n",
        "        \"noise_mean\": noise_mean,\n",
        "        \"noise_std\": noise_std,\n",
        "        \"num_obj_min\": num_obj_min,\n",
        "        \"num_obj_max\": num_obj_max,\n",
        "        \"learning_rate\": learning_rate,\n",
        "        \"num_imgs\": num_imgs,\n",
        "        \"epsilon\": epsilon,\n",
        "        \"noise_factor_min\": noise_factor_min,\n",
        "        \"noise_factor_max\": noise_factor_max,\n",
        "        \"beta\": beta\n",
        "    }\n",
        ")\n",
        "\n",
        "\n",
        "# FIT\n",
        "\n",
        "with tf.device(device_name = '/device:GPU:0'):\n",
        "    autoencoder_C.fit(x = generate_synth_batch(batch_size), epochs = epochs,\n",
        "                      steps_per_epoch = steps_per_epoch,\n",
        "                      batch_size = batch_size,\n",
        "                      shuffle = True,\n",
        "                    validation_data = ([synth_test_noisy], [synth_test]),\n",
        "                    callbacks = [WandbMetricsLogger(log_freq=5),\n",
        "                    WandbModelCheckpoint(\"models/gae_model/gae_weights\", save_weights_only = True, monitor = 'val_loss')])"
      ]
    },
    {
      "cell_type": "code",
      "execution_count": null,
      "metadata": {
        "id": "Gww5rEKKYAbl"
      },
      "outputs": [],
      "source": [
        "wandb.finish()"
      ]
    },
    {
      "cell_type": "code",
      "execution_count": null,
      "metadata": {
        "colab": {
          "base_uri": "https://localhost:8080/",
          "height": 809
        },
        "id": "hXyoObniidX3",
        "outputId": "0e1963ae-351d-4f55-aa60-2d596ede69fe"
      },
      "outputs": [
        {
          "name": "stdout",
          "output_type": "stream",
          "text": [
            "Compression ratio: 4.0\n",
            "1/1 [==============================] - 0s 412ms/step\n",
            "(1, 64, 64, 1)\n",
            "(64, 64)\n",
            "z_mean: 0.08199794217548967\n",
            "z_std: 47.19391756486969\n"
          ]
        },
        {
          "data": {
            "image/png": "[encoded data removed]",
            "text/plain": [
              "<Figure size 1152x720 with 10 Axes>"
            ]
          },
          "metadata": {
            "needs_background": "light"
          },
          "output_type": "display_data"
        },
        {
          "data": {
            "image/png": "[encoded data removed]",
            "text/plain": [
              "<Figure size 288x288 with 1 Axes>"
            ]
          },
          "metadata": {
            "needs_background": "light"
          },
          "output_type": "display_data"
        }
      ],
      "source": [
        "# test denoising reconstruction\n",
        "\n",
        "print('Compression ratio:', shape[0]*shape[1] / (8*8*encoding_filters[-1]))\n",
        "\n",
        "\n",
        "vmin = -1\n",
        "vmax = 14\n",
        "num_tests = 1\n",
        "for i in range(num_tests):\n",
        "  index = random.randint(0, len(synth_test_noisy)-1)\n",
        "  ground_truth_img = synth_test_noisy[index].reshape(shape)\n",
        "  clean_img = synth_test[index].reshape(shape)\n",
        "  test_img = synth_test_noisy[index].reshape(1,shape[0],shape[1],1)\n",
        "\n",
        "  with tf.device(device_name = '/device:GPU:0'):\n",
        "      mean_pred_img, var_pred_img = np.array(autoencoder_C.predict(test_img))\n",
        "      mean_pred_img = mean_pred_img.reshape(shape)\n",
        "      var_pred_img = var_pred_img.reshape(shape)\n",
        "\n",
        "  print(np.shape(test_img))\n",
        "  print(np.shape(mean_pred_img))\n",
        "\n",
        "  mse = (np.array(mean_pred_img) - np.array(ground_truth_img))**2\n",
        "  mse = np.mean(mse)\n",
        "\n",
        "  Z_image = (np.array(mean_pred_img) - np.array(ground_truth_img))/(np.array(var_pred_img) + epsilon)\n",
        "\n",
        "  # create a figure with multiple subplots\n",
        "  fig, axs = plt.subplots(1, 5, figsize=(16, 10), gridspec_kw={'wspace': 0.0, 'hspace': 0.0},\n",
        "                          constrained_layout=True)\n",
        "\n",
        "\n",
        "  # plot each image on a separate subplot\n",
        "  im0 = axs[0].imshow(ground_truth_img, cmap='gray', vmin = vmin, vmax = vmax)\n",
        "  axs[0].set_title('Ground Truth Image', fontsize = 9)\n",
        "  fig.colorbar(im0, ax=axs[0], shrink=0.35)\n",
        "\n",
        "  im1 = axs[1].imshow(clean_img, cmap='gray', vmin = vmin, vmax = vmax)\n",
        "  axs[1].set_title('Clean Image', fontsize = 9)\n",
        "  fig.colorbar(im1, ax=axs[1], shrink=0.35)\n",
        "\n",
        "  im2 = axs[2].imshow(mean_pred_img, cmap='gray', vmin = vmin, vmax = vmax)\n",
        "  axs[2].set_title('Mean Predict Image', fontsize = 9)\n",
        "  fig.colorbar(im2, ax=axs[2], shrink=0.35)\n",
        "\n",
        "  im3 = axs[3].imshow(var_pred_img, cmap = 'gray', vmin = vmin, vmax = vmax)\n",
        "  axs[3].set_title('Variance Predict Image (-{:.3f})'.format(epsilon), fontsize=9)\n",
        "  fig.colorbar(im3, ax=axs[3], shrink=0.35)\n",
        "\n",
        "  im4 = axs[4].imshow(Z_image, cmap = 'gray', vmin = vmin, vmax = vmax)\n",
        "  axs[4].set_title('Z score Image' , fontsize=9)\n",
        "  fig.colorbar(im4, ax=axs[4], shrink=0.35)\n",
        "\n",
        "  # histogram of Z score\n",
        "  image_flatten = np.array(Z_image).flatten()\n",
        "  print('z_mean:', np.mean(image_flatten))\n",
        "  print('z_std:', np.std(image_flatten))\n",
        "  plt.figure(figsize = (4,4))\n",
        "  histogram = plt.hist(image_flatten, density = False, bins = 100)\n",
        "\n",
        "\n",
        "\n",
        "\n",
        "\n"
      ]
    }
  ],
  "metadata": {
    "accelerator": "GPU",
    "colab": {
      "gpuType": "A100",
      "provenance": []
    },
    "gpuClass": "standard",
    "kernelspec": {
      "display_name": "base",
      "language": "python",
      "name": "python3"
    },
    "language_info": {
      "codemirror_mode": {
        "name": "ipython",
        "version": 3
      },
      "file_extension": ".py",
      "mimetype": "text/x-python",
      "name": "python",
      "nbconvert_exporter": "python",
      "pygments_lexer": "ipython3",
      "version": "3.8.3"
    },
    "orig_nbformat": 4,
    "widgets": {
      "application/vnd.jupyter.widget-state+json": {
        "18a6df968d484c19940cc46878d3a173": {
          "model_module": "@jupyter-widgets/controls",
          "model_module_version": "1.5.0",
          "model_name": "VBoxModel",
          "state": {
            "_dom_classes": [],
            "_model_module": "@jupyter-widgets/controls",
            "_model_module_version": "1.5.0",
            "_model_name": "VBoxModel",
            "_view_count": null,
            "_view_module": "@jupyter-widgets/controls",
            "_view_module_version": "1.5.0",
            "_view_name": "VBoxView",
            "box_style": "",
            "children": [
              "IPY_MODEL_42b1a615c6ef477eb99eafaaef3dda9c",
              "IPY_MODEL_f6616099e88043b5a25ead17d97230ca"
            ],
            "layout": "IPY_MODEL_bc9541aafd9b4286a8424f4834f4dc2c"
          }
        },
        "42b1a615c6ef477eb99eafaaef3dda9c": {
          "model_module": "@jupyter-widgets/controls",
          "model_module_version": "1.5.0",
          "model_name": "LabelModel",
          "state": {
            "_dom_classes": [],
            "_model_module": "@jupyter-widgets/controls",
            "_model_module_version": "1.5.0",
            "_model_name": "LabelModel",
            "_view_count": null,
            "_view_module": "@jupyter-widgets/controls",
            "_view_module_version": "1.5.0",
            "_view_name": "LabelView",
            "description": "",
            "description_tooltip": null,
            "layout": "IPY_MODEL_cc50e46d73214dd793f76430a57892d5",
            "placeholder": "​",
            "style": "IPY_MODEL_5b68fd9a65b14be18f50f7b7aa89c574",
            "value": "0.002 MB of 0.011 MB uploaded (0.000 MB deduped)\r"
          }
        },
        "5b68fd9a65b14be18f50f7b7aa89c574": {
          "model_module": "@jupyter-widgets/controls",
          "model_module_version": "1.5.0",
          "model_name": "DescriptionStyleModel",
          "state": {
            "_model_module": "@jupyter-widgets/controls",
            "_model_module_version": "1.5.0",
            "_model_name": "DescriptionStyleModel",
            "_view_count": null,
            "_view_module": "@jupyter-widgets/base",
            "_view_module_version": "1.2.0",
            "_view_name": "StyleView",
            "description_width": ""
          }
        },
        "9725537a5691484d9f01c8f551885966": {
          "model_module": "@jupyter-widgets/controls",
          "model_module_version": "1.5.0",
          "model_name": "ProgressStyleModel",
          "state": {
            "_model_module": "@jupyter-widgets/controls",
            "_model_module_version": "1.5.0",
            "_model_name": "ProgressStyleModel",
            "_view_count": null,
            "_view_module": "@jupyter-widgets/base",
            "_view_module_version": "1.2.0",
            "_view_name": "StyleView",
            "bar_color": null,
            "description_width": ""
          }
        },
        "bc9541aafd9b4286a8424f4834f4dc2c": {
          "model_module": "@jupyter-widgets/base",
          "model_module_version": "1.2.0",
          "model_name": "LayoutModel",
          "state": {
            "_model_module": "@jupyter-widgets/base",
            "_model_module_version": "1.2.0",
            "_model_name": "LayoutModel",
            "_view_count": null,
            "_view_module": "@jupyter-widgets/base",
            "_view_module_version": "1.2.0",
            "_view_name": "LayoutView",
            "align_content": null,
            "align_items": null,
            "align_self": null,
            "border": null,
            "bottom": null,
            "display": null,
            "flex": null,
            "flex_flow": null,
            "grid_area": null,
            "grid_auto_columns": null,
            "grid_auto_flow": null,
            "grid_auto_rows": null,
            "grid_column": null,
            "grid_gap": null,
            "grid_row": null,
            "grid_template_areas": null,
            "grid_template_columns": null,
            "grid_template_rows": null,
            "height": null,
            "justify_content": null,
            "justify_items": null,
            "left": null,
            "margin": null,
            "max_height": null,
            "max_width": null,
            "min_height": null,
            "min_width": null,
            "object_fit": null,
            "object_position": null,
            "order": null,
            "overflow": null,
            "overflow_x": null,
            "overflow_y": null,
            "padding": null,
            "right": null,
            "top": null,
            "visibility": null,
            "width": null
          }
        },
        "c891b44f5ee74c84803ded0068d80e04": {
          "model_module": "@jupyter-widgets/base",
          "model_module_version": "1.2.0",
          "model_name": "LayoutModel",
          "state": {
            "_model_module": "@jupyter-widgets/base",
            "_model_module_version": "1.2.0",
            "_model_name": "LayoutModel",
            "_view_count": null,
            "_view_module": "@jupyter-widgets/base",
            "_view_module_version": "1.2.0",
            "_view_name": "LayoutView",
            "align_content": null,
            "align_items": null,
            "align_self": null,
            "border": null,
            "bottom": null,
            "display": null,
            "flex": null,
            "flex_flow": null,
            "grid_area": null,
            "grid_auto_columns": null,
            "grid_auto_flow": null,
            "grid_auto_rows": null,
            "grid_column": null,
            "grid_gap": null,
            "grid_row": null,
            "grid_template_areas": null,
            "grid_template_columns": null,
            "grid_template_rows": null,
            "height": null,
            "justify_content": null,
            "justify_items": null,
            "left": null,
            "margin": null,
            "max_height": null,
            "max_width": null,
            "min_height": null,
            "min_width": null,
            "object_fit": null,
            "object_position": null,
            "order": null,
            "overflow": null,
            "overflow_x": null,
            "overflow_y": null,
            "padding": null,
            "right": null,
            "top": null,
            "visibility": null,
            "width": null
          }
        },
        "cc50e46d73214dd793f76430a57892d5": {
          "model_module": "@jupyter-widgets/base",
          "model_module_version": "1.2.0",
          "model_name": "LayoutModel",
          "state": {
            "_model_module": "@jupyter-widgets/base",
            "_model_module_version": "1.2.0",
            "_model_name": "LayoutModel",
            "_view_count": null,
            "_view_module": "@jupyter-widgets/base",
            "_view_module_version": "1.2.0",
            "_view_name": "LayoutView",
            "align_content": null,
            "align_items": null,
            "align_self": null,
            "border": null,
            "bottom": null,
            "display": null,
            "flex": null,
            "flex_flow": null,
            "grid_area": null,
            "grid_auto_columns": null,
            "grid_auto_flow": null,
            "grid_auto_rows": null,
            "grid_column": null,
            "grid_gap": null,
            "grid_row": null,
            "grid_template_areas": null,
            "grid_template_columns": null,
            "grid_template_rows": null,
            "height": null,
            "justify_content": null,
            "justify_items": null,
            "left": null,
            "margin": null,
            "max_height": null,
            "max_width": null,
            "min_height": null,
            "min_width": null,
            "object_fit": null,
            "object_position": null,
            "order": null,
            "overflow": null,
            "overflow_x": null,
            "overflow_y": null,
            "padding": null,
            "right": null,
            "top": null,
            "visibility": null,
            "width": null
          }
        },
        "f6616099e88043b5a25ead17d97230ca": {
          "model_module": "@jupyter-widgets/controls",
          "model_module_version": "1.5.0",
          "model_name": "FloatProgressModel",
          "state": {
            "_dom_classes": [],
            "_model_module": "@jupyter-widgets/controls",
            "_model_module_version": "1.5.0",
            "_model_name": "FloatProgressModel",
            "_view_count": null,
            "_view_module": "@jupyter-widgets/controls",
            "_view_module_version": "1.5.0",
            "_view_name": "ProgressView",
            "bar_style": "",
            "description": "",
            "description_tooltip": null,
            "layout": "IPY_MODEL_c891b44f5ee74c84803ded0068d80e04",
            "max": 1,
            "min": 0,
            "orientation": "horizontal",
            "style": "IPY_MODEL_9725537a5691484d9f01c8f551885966",
            "value": 0.19612463995810422
          }
        }
      }
    }
  },
  "nbformat": 4,
  "nbformat_minor": 0
}